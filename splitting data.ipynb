version https://git-lfs.github.com/spec/v1
oid sha256:9fff08649278e354f0af9cb30d800a5cb2d425790bbbf4348c68d9d434c947dc
size 2032
