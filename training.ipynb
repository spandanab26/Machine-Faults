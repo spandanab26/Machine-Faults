version https://git-lfs.github.com/spec/v1
oid sha256:ec13fdd78e023e72127db164c2c800cb2c216387d6c34b6846e7861959b2aca4
size 340036
