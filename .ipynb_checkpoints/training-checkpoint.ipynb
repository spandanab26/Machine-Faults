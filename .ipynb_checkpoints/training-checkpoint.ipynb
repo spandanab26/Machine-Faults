version https://git-lfs.github.com/spec/v1
oid sha256:8358f11e82ce997c085c9583d2e01da6fe49d5037f34635cb9eb07a14ad44c7d
size 330047
