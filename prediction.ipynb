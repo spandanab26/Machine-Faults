version https://git-lfs.github.com/spec/v1
oid sha256:f40cc83de97bd5b52c118d2e060e03d1167695de2620bfd9a77b6316fa243897
size 2181
